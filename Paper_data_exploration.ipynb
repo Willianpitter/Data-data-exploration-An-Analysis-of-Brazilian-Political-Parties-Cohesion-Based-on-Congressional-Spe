{
  "nbformat": 4,
  "nbformat_minor": 0,
  "metadata": {
    "colab": {
      "name": "Paper data exploration.ipynb",
      "provenance": [],
      "collapsed_sections": []
    },
    "kernelspec": {
      "display_name": "Python 3",
      "name": "python3"
    },
    "language_info": {
      "name": "python"
    }
  },
  "cells": [
    {
      "cell_type": "markdown",
      "metadata": {
        "id": "GccfBP4CNExv"
      },
      "source": [
        "# Imports"
      ]
    },
    {
      "cell_type": "code",
      "metadata": {
        "id": "vz17UAxGuVCE"
      },
      "source": [
        "import pandas as pd\n",
        "import numpy as np\n",
        "import matplotlib.pyplot as plt"
      ],
      "execution_count": 20,
      "outputs": []
    },
    {
      "cell_type": "code",
      "metadata": {
        "id": "uYUMxNITyuwd"
      },
      "source": [
        "pd.options.display.max_colwidth = 200"
      ],
      "execution_count": 21,
      "outputs": []
    },
    {
      "cell_type": "markdown",
      "metadata": {
        "id": "pJzxRpk2_6V2"
      },
      "source": [
        "## Loading original data and filtering by legislature"
      ]
    },
    {
      "cell_type": "code",
      "source": [
        "party_dict = pd.read_csv('drive/MyDrive/IEEE Latin America Transactions/info_deputados.csv').set_index('party_id')['party'].squeeze().to_dict()"
      ],
      "metadata": {
        "id": "tcpphFkkAsYj"
      },
      "execution_count": 22,
      "outputs": []
    },
    {
      "cell_type": "code",
      "source": [
        "df_speeches_merged = pd.read_csv('drive/MyDrive/IEEE Latin America Transactions/info_speeches.csv').drop(columns=['type']).dropna()\n",
        "df_speeches_merged = df_speeches_merged.rename(columns={'transcript': 'transcricao'})\n",
        "df_speeches_merged = df_speeches_merged[df_speeches_merged.term == 54]"
      ],
      "metadata": {
        "id": "CcpzWOR3A40r"
      },
      "execution_count": 23,
      "outputs": []
    },
    {
      "cell_type": "code",
      "source": [
        "groups = df_speeches_merged.groupby(['congressman_id', 'term'])\n",
        "groups = groups.apply(lambda x: pd.Series({'party_id': x.party_id.iloc[0], 'speeches': list(x.transcricao)}))\n",
        "array_parties, lists_discursos = groups.values.T"
      ],
      "metadata": {
        "id": "H8wMs49WCPpS"
      },
      "execution_count": 24,
      "outputs": []
    },
    {
      "cell_type": "markdown",
      "source": [
        "Separating deputies by party"
      ],
      "metadata": {
        "id": "lTTELt7YweKw"
      }
    },
    {
      "cell_type": "code",
      "source": [
        "uniq_partidos = np.unique(array_parties)\n",
        "df_congressmen_by_parties = [(party_dict[p], (array_parties == p).sum()) for i, p in enumerate(uniq_partidos)]"
      ],
      "metadata": {
        "id": "5u9u_MNGCzLD"
      },
      "execution_count": 25,
      "outputs": []
    },
    {
      "cell_type": "code",
      "source": [
        "df_congressmen_by_parties = pd.DataFrame(df_congressmen_by_parties)\n",
        "df_congressmen_by_parties.rename(columns={0:'Partido', 1:'Tamanho'}, inplace=True)"
      ],
      "metadata": {
        "id": "dbS4ZWbpDQ5q"
      },
      "execution_count": 26,
      "outputs": []
    },
    {
      "cell_type": "markdown",
      "source": [
        "Detailed statement of the number of parliamentarians per party"
      ],
      "metadata": {
        "id": "abg9MxRKwkfu"
      }
    },
    {
      "cell_type": "code",
      "source": [
        "df_congressmen_by_parties = df_congressmen_by_parties[df_congressmen_by_parties.Tamanho > 2]\n",
        "df_congressmen_by_parties"
      ],
      "metadata": {
        "colab": {
          "base_uri": "https://localhost:8080/",
          "height": 708
        },
        "id": "zkvMsxYADnAK",
        "outputId": "6e8dd3cd-3cd0-4322-ee0b-a15ebeef3ba1"
      },
      "execution_count": 27,
      "outputs": [
        {
          "output_type": "execute_result",
          "data": {
            "text/plain": [
              "   Partido  Tamanho\n",
              "1     PROS       21\n",
              "2      SDD       23\n",
              "3      DEM       31\n",
              "4    PCdoB       16\n",
              "5      PDT       21\n",
              "6     PMDB       93\n",
              "7      PMN        3\n",
              "8     PP**       44\n",
              "9      PPS        9\n",
              "10      PR       32\n",
              "11     PRB       14\n",
              "12     PRP        3\n",
              "13     PSB       40\n",
              "14     PSC       17\n",
              "15     PSD       50\n",
              "16    PSDB       61\n",
              "18    PSOL        3\n",
              "19      PT      107\n",
              "20     PTB       22\n",
              "22   PTdoB        4\n",
              "23      PV       13"
            ],
            "text/html": [
              "\n",
              "  <div id=\"df-6dcb69e3-7cc9-4dfb-bdaa-5114b5767756\">\n",
              "    <div class=\"colab-df-container\">\n",
              "      <div>\n",
              "<style scoped>\n",
              "    .dataframe tbody tr th:only-of-type {\n",
              "        vertical-align: middle;\n",
              "    }\n",
              "\n",
              "    .dataframe tbody tr th {\n",
              "        vertical-align: top;\n",
              "    }\n",
              "\n",
              "    .dataframe thead th {\n",
              "        text-align: right;\n",
              "    }\n",
              "</style>\n",
              "<table border=\"1\" class=\"dataframe\">\n",
              "  <thead>\n",
              "    <tr style=\"text-align: right;\">\n",
              "      <th></th>\n",
              "      <th>Partido</th>\n",
              "      <th>Tamanho</th>\n",
              "    </tr>\n",
              "  </thead>\n",
              "  <tbody>\n",
              "    <tr>\n",
              "      <th>1</th>\n",
              "      <td>PROS</td>\n",
              "      <td>21</td>\n",
              "    </tr>\n",
              "    <tr>\n",
              "      <th>2</th>\n",
              "      <td>SDD</td>\n",
              "      <td>23</td>\n",
              "    </tr>\n",
              "    <tr>\n",
              "      <th>3</th>\n",
              "      <td>DEM</td>\n",
              "      <td>31</td>\n",
              "    </tr>\n",
              "    <tr>\n",
              "      <th>4</th>\n",
              "      <td>PCdoB</td>\n",
              "      <td>16</td>\n",
              "    </tr>\n",
              "    <tr>\n",
              "      <th>5</th>\n",
              "      <td>PDT</td>\n",
              "      <td>21</td>\n",
              "    </tr>\n",
              "    <tr>\n",
              "      <th>6</th>\n",
              "      <td>PMDB</td>\n",
              "      <td>93</td>\n",
              "    </tr>\n",
              "    <tr>\n",
              "      <th>7</th>\n",
              "      <td>PMN</td>\n",
              "      <td>3</td>\n",
              "    </tr>\n",
              "    <tr>\n",
              "      <th>8</th>\n",
              "      <td>PP**</td>\n",
              "      <td>44</td>\n",
              "    </tr>\n",
              "    <tr>\n",
              "      <th>9</th>\n",
              "      <td>PPS</td>\n",
              "      <td>9</td>\n",
              "    </tr>\n",
              "    <tr>\n",
              "      <th>10</th>\n",
              "      <td>PR</td>\n",
              "      <td>32</td>\n",
              "    </tr>\n",
              "    <tr>\n",
              "      <th>11</th>\n",
              "      <td>PRB</td>\n",
              "      <td>14</td>\n",
              "    </tr>\n",
              "    <tr>\n",
              "      <th>12</th>\n",
              "      <td>PRP</td>\n",
              "      <td>3</td>\n",
              "    </tr>\n",
              "    <tr>\n",
              "      <th>13</th>\n",
              "      <td>PSB</td>\n",
              "      <td>40</td>\n",
              "    </tr>\n",
              "    <tr>\n",
              "      <th>14</th>\n",
              "      <td>PSC</td>\n",
              "      <td>17</td>\n",
              "    </tr>\n",
              "    <tr>\n",
              "      <th>15</th>\n",
              "      <td>PSD</td>\n",
              "      <td>50</td>\n",
              "    </tr>\n",
              "    <tr>\n",
              "      <th>16</th>\n",
              "      <td>PSDB</td>\n",
              "      <td>61</td>\n",
              "    </tr>\n",
              "    <tr>\n",
              "      <th>18</th>\n",
              "      <td>PSOL</td>\n",
              "      <td>3</td>\n",
              "    </tr>\n",
              "    <tr>\n",
              "      <th>19</th>\n",
              "      <td>PT</td>\n",
              "      <td>107</td>\n",
              "    </tr>\n",
              "    <tr>\n",
              "      <th>20</th>\n",
              "      <td>PTB</td>\n",
              "      <td>22</td>\n",
              "    </tr>\n",
              "    <tr>\n",
              "      <th>22</th>\n",
              "      <td>PTdoB</td>\n",
              "      <td>4</td>\n",
              "    </tr>\n",
              "    <tr>\n",
              "      <th>23</th>\n",
              "      <td>PV</td>\n",
              "      <td>13</td>\n",
              "    </tr>\n",
              "  </tbody>\n",
              "</table>\n",
              "</div>\n",
              "      <button class=\"colab-df-convert\" onclick=\"convertToInteractive('df-6dcb69e3-7cc9-4dfb-bdaa-5114b5767756')\"\n",
              "              title=\"Convert this dataframe to an interactive table.\"\n",
              "              style=\"display:none;\">\n",
              "        \n",
              "  <svg xmlns=\"http://www.w3.org/2000/svg\" height=\"24px\"viewBox=\"0 0 24 24\"\n",
              "       width=\"24px\">\n",
              "    <path d=\"M0 0h24v24H0V0z\" fill=\"none\"/>\n",
              "    <path d=\"M18.56 5.44l.94 2.06.94-2.06 2.06-.94-2.06-.94-.94-2.06-.94 2.06-2.06.94zm-11 1L8.5 8.5l.94-2.06 2.06-.94-2.06-.94L8.5 2.5l-.94 2.06-2.06.94zm10 10l.94 2.06.94-2.06 2.06-.94-2.06-.94-.94-2.06-.94 2.06-2.06.94z\"/><path d=\"M17.41 7.96l-1.37-1.37c-.4-.4-.92-.59-1.43-.59-.52 0-1.04.2-1.43.59L10.3 9.45l-7.72 7.72c-.78.78-.78 2.05 0 2.83L4 21.41c.39.39.9.59 1.41.59.51 0 1.02-.2 1.41-.59l7.78-7.78 2.81-2.81c.8-.78.8-2.07 0-2.86zM5.41 20L4 18.59l7.72-7.72 1.47 1.35L5.41 20z\"/>\n",
              "  </svg>\n",
              "      </button>\n",
              "      \n",
              "  <style>\n",
              "    .colab-df-container {\n",
              "      display:flex;\n",
              "      flex-wrap:wrap;\n",
              "      gap: 12px;\n",
              "    }\n",
              "\n",
              "    .colab-df-convert {\n",
              "      background-color: #E8F0FE;\n",
              "      border: none;\n",
              "      border-radius: 50%;\n",
              "      cursor: pointer;\n",
              "      display: none;\n",
              "      fill: #1967D2;\n",
              "      height: 32px;\n",
              "      padding: 0 0 0 0;\n",
              "      width: 32px;\n",
              "    }\n",
              "\n",
              "    .colab-df-convert:hover {\n",
              "      background-color: #E2EBFA;\n",
              "      box-shadow: 0px 1px 2px rgba(60, 64, 67, 0.3), 0px 1px 3px 1px rgba(60, 64, 67, 0.15);\n",
              "      fill: #174EA6;\n",
              "    }\n",
              "\n",
              "    [theme=dark] .colab-df-convert {\n",
              "      background-color: #3B4455;\n",
              "      fill: #D2E3FC;\n",
              "    }\n",
              "\n",
              "    [theme=dark] .colab-df-convert:hover {\n",
              "      background-color: #434B5C;\n",
              "      box-shadow: 0px 1px 3px 1px rgba(0, 0, 0, 0.15);\n",
              "      filter: drop-shadow(0px 1px 2px rgba(0, 0, 0, 0.3));\n",
              "      fill: #FFFFFF;\n",
              "    }\n",
              "  </style>\n",
              "\n",
              "      <script>\n",
              "        const buttonEl =\n",
              "          document.querySelector('#df-6dcb69e3-7cc9-4dfb-bdaa-5114b5767756 button.colab-df-convert');\n",
              "        buttonEl.style.display =\n",
              "          google.colab.kernel.accessAllowed ? 'block' : 'none';\n",
              "\n",
              "        async function convertToInteractive(key) {\n",
              "          const element = document.querySelector('#df-6dcb69e3-7cc9-4dfb-bdaa-5114b5767756');\n",
              "          const dataTable =\n",
              "            await google.colab.kernel.invokeFunction('convertToInteractive',\n",
              "                                                     [key], {});\n",
              "          if (!dataTable) return;\n",
              "\n",
              "          const docLinkHtml = 'Like what you see? Visit the ' +\n",
              "            '<a target=\"_blank\" href=https://colab.research.google.com/notebooks/data_table.ipynb>data table notebook</a>'\n",
              "            + ' to learn more about interactive tables.';\n",
              "          element.innerHTML = '';\n",
              "          dataTable['output_type'] = 'display_data';\n",
              "          await google.colab.output.renderOutput(dataTable, element);\n",
              "          const docLink = document.createElement('div');\n",
              "          docLink.innerHTML = docLinkHtml;\n",
              "          element.appendChild(docLink);\n",
              "        }\n",
              "      </script>\n",
              "    </div>\n",
              "  </div>\n",
              "  "
            ]
          },
          "metadata": {},
          "execution_count": 27
        }
      ]
    },
    {
      "cell_type": "markdown",
      "source": [
        "Graph representing the size of each party"
      ],
      "metadata": {
        "id": "tlXrWCb8w8aV"
      }
    },
    {
      "cell_type": "code",
      "metadata": {
        "colab": {
          "base_uri": "https://localhost:8080/",
          "height": 323
        },
        "id": "ZINEE8s1uWyA",
        "outputId": "e12af9ed-d1e6-4c00-e789-9c7dc3bb9125"
      },
      "source": [
        "plt.rcParams.update({'font.size': 14})\n",
        "fig, ax1 = plt.subplots(figsize=(11,4))\n",
        "ax1.bar(np.arange(len(df_congressmen_by_parties))*3, df_congressmen_by_parties['Tamanho'], color='r', label='Tamanho',width=2)\n",
        "for i, v in enumerate(df_congressmen_by_parties['Tamanho']):\n",
        "    ax1.text(x=i * 3- 1.2, y =v +1.5 , s=f\"{v}\" , fontdict=dict(fontsize=15))\n",
        "\n",
        "ax1.set_xticks(np.arange(len(df_congressmen_by_parties))*3+0.5)\n",
        "ax1.set_xticklabels(df_congressmen_by_parties['Partido'], rotation=90)\n",
        "ax1.set_ylabel('Tamanho')\n",
        "ax1.legend(loc=2)\n",
        "ax1.set_xlabel('Partidos, ordenados da esquerda para a direita pelo melhor coeficiente de agrupamento')\n",
        "\n",
        "plt.savefig('b.pdf', bbox_inches='tight')"
      ],
      "execution_count": 28,
      "outputs": [
        {
          "output_type": "display_data",
          "data": {
            "text/plain": [
              "<Figure size 792x288 with 1 Axes>"
            ],
            "image/png": "[encoded data removed]"
          },
          "metadata": {
            "needs_background": "light"
          }
        }
      ]
    }
  ]
}